{
 "cells": [
  {
   "cell_type": "markdown",
   "id": "81e98fc5-6916-4e50-a214-0da42b09ce2e",
   "metadata": {},
   "source": [
    "# Data Science Tools and Ecosystem"
   ]
  },
  {
   "cell_type": "markdown",
   "id": "6160273a-eac9-48f6-a3c9-cc0260ac3069",
   "metadata": {
    "tags": []
   },
   "source": [
    "## Author\n",
    "Peter Key"
   ]
  },
  {
   "cell_type": "markdown",
   "id": "fee69d99-45a9-4781-aaa1-d01284b2d0ee",
   "metadata": {},
   "source": [
    "In this notebook, Data Science Tools and Ecosystem are summarized."
   ]
  },
  {
   "cell_type": "markdown",
   "id": "251c287f-3312-4a50-a4fc-9a007922fb95",
   "metadata": {},
   "source": [
    "**Objectives:**\n",
    "+ List popular data science languages\n",
    "+ List popular data science libraries\n",
    "+ List popular data science open source tools"
   ]
  },
  {
   "cell_type": "markdown",
   "id": "0251bebe-a2c3-4848-91a2-0e8f2fe4f078",
   "metadata": {},
   "source": [
    "Some of the popular languages that Data Scientists use are:\n",
    "1. Python\n",
    "2. R\n",
    "3. SQL"
   ]
  },
  {
   "cell_type": "markdown",
   "id": "c2bc73b7-b82b-4ae3-abcb-ad3bc6135bea",
   "metadata": {},
   "source": [
    "Some of the commonly used libraries used by Data Scientists include:\n",
    "1. pandas\n",
    "2. numpy\n",
    "3. pytorch"
   ]
  },
  {
   "cell_type": "markdown",
   "id": "e1d3f5cf-a83d-417e-a4fe-c53d6a5260dc",
   "metadata": {},
   "source": [
    "|Data Science Tools|\n",
    "|------------------|\n",
    "| RStudio |\n",
    "| Apache Spark |\n",
    "| Tensor Flow |"
   ]
  },
  {
   "cell_type": "markdown",
   "id": "2bd84bc2-d950-4712-a040-bd2fec800cbe",
   "metadata": {},
   "source": [
    "### Below are a few examples of evaluating arithmetic expressions in Python\n",
    "\n",
    "$$ a^2 + b^2 = c^2 $$\n"
   ]
  },
  {
   "cell_type": "code",
   "execution_count": 1,
   "id": "c4e7facc-a1f4-4b41-8b34-7d0535ff5013",
   "metadata": {},
   "outputs": [
    {
     "data": {
      "text/plain": [
       "17"
      ]
     },
     "execution_count": 1,
     "metadata": {},
     "output_type": "execute_result"
    }
   ],
   "source": [
    "#This a simple arithmetic expression to mutiply then add integers\n",
    "(3*4)+5"
   ]
  },
  {
   "cell_type": "code",
   "execution_count": 2,
   "id": "e2063227-4bde-443b-a5fa-c5eee9734d11",
   "metadata": {},
   "outputs": [
    {
     "data": {
      "text/plain": [
       "3.3333333333333335"
      ]
     },
     "execution_count": 2,
     "metadata": {},
     "output_type": "execute_result"
    }
   ],
   "source": [
    "#This will convert 200 minutes to hours by diving by 60\n",
    "200/60"
   ]
  }
 ],
 "metadata": {
  "kernelspec": {
   "display_name": "Python",
   "language": "python",
   "name": "conda-env-python-py"
  },
  "language_info": {
   "codemirror_mode": {
    "name": "ipython",
    "version": 3
   },
   "file_extension": ".py",
   "mimetype": "text/x-python",
   "name": "python",
   "nbconvert_exporter": "python",
   "pygments_lexer": "ipython3",
   "version": "3.7.12"
  }
 },
 "nbformat": 4,
 "nbformat_minor": 5
}
